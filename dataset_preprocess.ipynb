{
 "cells": [
  {
   "cell_type": "markdown",
   "metadata": {},
   "source": [
    "# <font size = 6 color = 'tomato'>Sentinel2 L1C remote sensing image preprocessing Tools for image segmentation</font>"
   ]
  },
  {
   "cell_type": "markdown",
   "metadata": {},
   "source": [
    "## Download Sentinel remote sensing images using API (Optional)"
   ]
  },
  {
   "cell_type": "code",
   "execution_count": null,
   "metadata": {},
   "outputs": [],
   "source": [
    "# Setup parameters in sentinel_download.py\n",
    "# %run sentinel_data_download.py"
   ]
  },
  {
   "cell_type": "markdown",
   "metadata": {},
   "source": [
    "## Unzip the compressed dataset files (Optional)"
   ]
  },
  {
   "cell_type": "code",
   "execution_count": null,
   "metadata": {
    "vscode": {
     "languageId": "shellscript"
    }
   },
   "outputs": [],
   "source": [
    "%%bash\n",
    "#! usr/bin/bash\n",
    "\n",
    "# source_files_path = \"./data/*.zip\"\n",
    "# dest_files_path = \"./data\"\n",
    "\n",
    "# unzip \"./data/*.zip\" -d \"./data\""
   ]
  },
  {
   "cell_type": "markdown",
   "metadata": {},
   "source": [
    "## Cut images into clips. \n",
    "- 10m: (4 bands 2/3/4/8)\n",
    "\n",
    "- 20m: (6 bands 5/6/7/8A/11/12)\n",
    "\n",
    "- 60m: (3 bands 1/9/10))"
   ]
  },
  {
   "cell_type": "markdown",
   "metadata": {},
   "source": [
    "## Unzip original zip files into .SAFE dir. Reading and preprocessing datasets and labels, respectively. \n",
    "![Structure of dataset dictionary](Structure_of_dataset.png)"
   ]
  },
  {
   "cell_type": "code",
   "execution_count": null,
   "metadata": {
    "vscode": {
     "languageId": "shellscript"
    }
   },
   "outputs": [],
   "source": [
    "%%bash\n",
    "\n",
    "# Process dataset \n",
    "python dataset_preprocess.py --source 'dataset' --output './prepared_dataset' --list 'imgs_list.txt'\n",
    "\n",
    "# Process labels\n",
    "python dataset_preprocess.py --source 'Mask' --output './prepared_dataset'  --if_label True   "
   ]
  }
 ],
 "metadata": {
  "kernelspec": {
   "display_name": "Python 3.8.13 ('YOLOv5-torch')",
   "language": "python",
   "name": "python3"
  },
  "language_info": {
   "codemirror_mode": {
    "name": "ipython",
    "version": 3
   },
   "file_extension": ".py",
   "mimetype": "text/x-python",
   "name": "python",
   "nbconvert_exporter": "python",
   "pygments_lexer": "ipython3",
   "version": "3.8.13"
  },
  "orig_nbformat": 4,
  "vscode": {
   "interpreter": {
    "hash": "ae752b144c7c54a353337ca6e82b67cdaa7cb6c453c299be4bb87a6ff233e089"
   }
  }
 },
 "nbformat": 4,
 "nbformat_minor": 2
}
